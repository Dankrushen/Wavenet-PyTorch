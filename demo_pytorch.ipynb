{
 "cells": [
  {
   "cell_type": "code",
   "execution_count": 7,
   "metadata": {},
   "outputs": [],
   "source": [
    "import os\n",
    "import torch\n",
    "from torch import nn, optim\n",
    "import numpy as np\n",
    "import matplotlib.pyplot as plt\n",
    "\n",
    "from wavenet.audiodata import AudioData, AudioLoader\n",
    "from wavenet.models_torch import Model, Generator\n",
    "from wavenet.utils import set_args\n",
    "\n",
    "%matplotlib inline\n",
    "\n",
    "x_len = 2**15\n",
    "num_classes = 256\n",
    "num_layers = 14\n",
    "num_blocks = 2\n",
    "num_hidden = 128\n",
    "kernel_size = 2\n",
    "learn_rate = 0.001\n",
    "step_size = 50\n",
    "gamma = 0.5\n",
    "batch_size = 8\n",
    "num_workers = 1\n",
    "model_file = 'model.pt'\n",
    "n_new_samples = 1000"
   ]
  },
  {
   "cell_type": "markdown",
   "metadata": {},
   "source": [
    "## Create dataset and dataloader"
   ]
  },
  {
   "cell_type": "code",
   "execution_count": 2,
   "metadata": {},
   "outputs": [],
   "source": [
    "filelist = ['assets/classical.wav']\n",
    "\n",
    "dataset = AudioData(filelist, x_len, num_classes=num_classes, \n",
    "                    store_tracks=True)\n",
    "dataloader = AudioLoader(dataset, batch_size=batch_size, \n",
    "                         num_workers=num_workers)"
   ]
  },
  {
   "cell_type": "markdown",
   "metadata": {},
   "source": [
    "## Define and train model"
   ]
  },
  {
   "cell_type": "code",
   "execution_count": 3,
   "metadata": {},
   "outputs": [
    {
     "name": "stdout",
     "output_type": "stream",
     "text": [
      "Loading model data from file: model.pt\n"
     ]
    },
    {
     "name": "stderr",
     "output_type": "stream",
     "text": [
      "/home/masonmcgough/anaconda2/envs/PyTorchSIIM/lib/python3.6/site-packages/torch/cuda/__init__.py:116: UserWarning: \n",
      "    Found GPU0 Quadro K4000 which is of cuda capability 3.0.\n",
      "    PyTorch no longer supports this GPU because it is too old.\n",
      "    \n",
      "  warnings.warn(old_gpu_warn % (d, name, major, capability[1]))\n"
     ]
    }
   ],
   "source": [
    "wave_model = Model(x_len, num_channels=1, num_classes=num_classes, \n",
    "                   num_blocks=num_blocks, num_layers=num_layers,\n",
    "                   num_hidden=num_hidden, kernel_size=kernel_size)\n",
    "if os.path.isfile(model_file):\n",
    "    print('Loading model data from file: {}'.format(model_file))\n",
    "    wave_model.load_state_dict(torch.load(model_file))\n",
    "else:\n",
    "    print('Model data not found: {}'.format(model_file))\n",
    "    print('Training new model.')\n",
    "    wave_model.criterion = nn.CrossEntropyLoss()\n",
    "    wave_model.optimizer = optim.Adam(wave_model.parameters(), \n",
    "                                      lr=learn_rate)\n",
    "    wave_model.scheduler = optim.lr_scheduler.StepLR(wave_model.optimizer, \n",
    "                                                     step_size=step_size, \n",
    "                                                     gamma=gamma)\n",
    "    \n",
    "    wave_model.train(dataloader)\n",
    "\n",
    "    print('Saving model data to file: {}'.format(model_file))\n",
    "    torch.save(wave_model.state_dict(), model_file)"
   ]
  },
  {
   "cell_type": "markdown",
   "metadata": {},
   "source": [
    "## Predict sequence"
   ]
  },
  {
   "cell_type": "code",
   "execution_count": 4,
   "metadata": {},
   "outputs": [
    {
     "name": "stdout",
     "output_type": "stream",
     "text": [
      "Predicting 1000 samples\n",
      "Sample 0 / 1000\n",
      "Sample 100 / 1000\n",
      "Sample 200 / 1000\n",
      "Sample 300 / 1000\n",
      "Sample 400 / 1000\n",
      "Sample 500 / 1000\n",
      "Sample 600 / 1000\n",
      "Sample 700 / 1000\n",
      "Sample 800 / 1000\n",
      "Sample 900 / 1000\n"
     ]
    }
   ],
   "source": [
    "wave_generator = Generator(wave_model, dataset)\n",
    "\n",
    "n_total_samples = x_len + n_new_samples\n",
    "audio = dataset.tracks[0]['audio'][:n_total_samples]\n",
    "sample_rate = dataset.tracks[0]['sample_rate']\n",
    "x = audio[:x_len]\n",
    "n_predictions = n_total_samples - x_len\n",
    "\n",
    "print('Predicting {} samples'.format(n_predictions))\n",
    "y = wave_generator.run(x, n_predictions, disp_interval=100)"
   ]
  },
  {
   "cell_type": "code",
   "execution_count": 11,
   "metadata": {},
   "outputs": [
    {
     "data": {
      "text/plain": [
       "[<matplotlib.lines.Line2D at 0x7f13a47e5358>]"
      ]
     },
     "execution_count": 11,
     "metadata": {},
     "output_type": "execute_result"
    },
    {
     "data": {
      "image/png": "[encoded data removed]",
      "text/plain": [
       "<Figure size 432x288 with 1 Axes>"
      ]
     },
     "metadata": {},
     "output_type": "display_data"
    }
   ],
   "source": [
    "idxs = np.linspace(0, \n",
    "                   (n_total_samples - 1) * sample_rate, \n",
    "                   n_total_samples)\n",
    "plt.plot(idxs, audio, 'b')\n",
    "plt.plot(idxs[x_len:], y, 'r')"
   ]
  }
 ],
 "metadata": {
  "kernelspec": {
   "display_name": "Python [conda env:PyTorchSIIM]",
   "language": "python",
   "name": "conda-env-PyTorchSIIM-py"
  },
  "language_info": {
   "codemirror_mode": {
    "name": "ipython",
    "version": 3
   },
   "file_extension": ".py",
   "mimetype": "text/x-python",
   "name": "python",
   "nbconvert_exporter": "python",
   "pygments_lexer": "ipython3",
   "version": "3.6.5"
  }
 },
 "nbformat": 4,
 "nbformat_minor": 2
}
